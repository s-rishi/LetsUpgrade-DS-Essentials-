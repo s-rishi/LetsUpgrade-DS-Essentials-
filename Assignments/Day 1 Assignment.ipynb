{
 "metadata": {
  "language_info": {
   "codemirror_mode": {
    "name": "ipython",
    "version": 3
   },
   "file_extension": ".py",
   "mimetype": "text/x-python",
   "name": "python",
   "nbconvert_exporter": "python",
   "pygments_lexer": "ipython3",
   "version": "3.8.3-final"
  },
  "orig_nbformat": 2,
  "kernelspec": {
   "name": "Python 3.8.3 64-bit (conda)",
   "display_name": "Python 3.8.3 64-bit (conda)",
   "metadata": {
    "interpreter": {
     "hash": "4cc0b2af592d36ba00fa8f7d938a93a0f5889246cc48dfcf11c6a89ccd359934"
    }
   }
  }
 },
 "nbformat": 4,
 "nbformat_minor": 2,
 "cells": [
  {
   "source": [
    "# Question 1:\n",
    "Given the following jumbled word, OBANWRI guess the correct English word.\n",
    "<br>A. RANIBOW\n",
    "<br>B. RAINBOW\n",
    "<br>C. BOWRANI\n",
    "<br>D. ROBWANI"
   ],
   "cell_type": "markdown",
   "metadata": {}
  },
  {
   "source": [
    "# Answer\n",
    "<br>B. RAINBOW"
   ],
   "cell_type": "markdown",
   "metadata": {}
  },
  {
   "source": [
    "# Question 2:\n",
    "Write a program which prints “LETS UPGRADE”. (Please note that you have to\n",
    "print in ALL CAPS as given)"
   ],
   "cell_type": "markdown",
   "metadata": {}
  },
  {
   "cell_type": "code",
   "execution_count": null,
   "metadata": {},
   "outputs": [],
   "source": [
    "print('LETS UPGRAGE')"
   ]
  },
  {
   "source": [
    "Questions 3:\n",
    "Write a program that takes cost price and selling price as input and displays whether the transaction is a\n",
    "Profit or a Loss or Neither."
   ],
   "cell_type": "markdown",
   "metadata": {}
  },
  {
   "cell_type": "code",
   "execution_count": null,
   "metadata": {},
   "outputs": [],
   "source": [
    "cp=int(input())\n",
    "sp=int(input())\n",
    "if cp<sp:\n",
    "    print('Profit')\n",
    "elif cp>sp:\n",
    "    print('Loss')\n",
    "else:\n",
    "    print('Neither')"
   ]
  },
  {
   "source": [
    "# Questions 4:\n",
    "Write a program that takes cost price and selling price as input and displays whether the transaction is a\n",
    "Profit or a Loss or Neither.\n",
    "<br>INPUT FORMAT\n",
    "<br>The first line contains the cost price.\n",
    "The second line contains the selling price.\n",
    "<br>OUTPUT FORMAT\n",
    "<br>Print \"Profit\" if the transaction is a profit or \"Loss\" if it is a loss. If it is neither\n",
    "profit nor loss, print \"Neither\". (You must not have quotes in your output)\n",
    "<br>NOTE:\n",
    "Please stick to the input and output format. Don't add anything extra like\n",
    "'Enter cost price', 'Enter selling price', etc."
   ],
   "cell_type": "markdown",
   "metadata": {}
  },
  {
   "cell_type": "code",
   "execution_count": null,
   "metadata": {},
   "outputs": [],
   "source": [
    "cp=int(input())\n",
    "sp=int(input())\n",
    "if cp<sp:\n",
    "    print('Profit')\n",
    "elif cp>sp:\n",
    "    print('Loss')\n",
    "else:\n",
    "    print('Neither')"
   ]
  },
  {
   "source": [
    "# Questions 5:\n",
    "Write a program that takes an amount in Indian Rupees as input. You need to find its equivalent\n",
    "in Euro and display it. Assume 1 Euro equals Rs. 80.\n",
    "<br>Please note that you are expected to stick to the given input and output\n",
    "format as in sample test cases. Please don't add any extra lines such as\n",
    "'Enter a number', etc.\n",
    "<br>Your program should take only one number as input and display the output."
   ],
   "cell_type": "markdown",
   "metadata": {}
  },
  {
   "cell_type": "code",
   "execution_count": null,
   "metadata": {},
   "outputs": [],
   "source": [
    "rupee = int(input())\n",
    "print(rupee)\n",
    "print(rupee/80)"
   ]
  }
 ]
}
