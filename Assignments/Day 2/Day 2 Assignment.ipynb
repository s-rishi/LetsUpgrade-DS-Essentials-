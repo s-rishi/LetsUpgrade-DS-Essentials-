{
 "cells": [
  {
   "cell_type": "markdown",
   "metadata": {},
   "source": [
    "# Question 1:\n",
    "Create an empty list. Accept 10 numbers from the user and append to it the list if it is an even number."
   ]
  },
  {
   "cell_type": "code",
   "execution_count": 1,
   "metadata": {},
   "outputs": [
    {
     "name": "stdout",
     "output_type": "stream",
     "text": [
      "Enter 10 numbers\n",
      "2\n",
      "4\n",
      "8\n",
      "6\n",
      "55\n",
      "46\n",
      "48\n",
      "68\n",
      "32\n",
      "24\n",
      "[2, 4, 6, 8, 24, 32, 46, 48, 68]\n"
     ]
    }
   ],
   "source": [
    "print('Enter 10 numbers')\n",
    "lst = []\n",
    "for i in range (10):\n",
    "    n = int(input())\n",
    "    if n%2==0:\n",
    "        lst.append(n)\n",
    "print(sorted(lst))"
   ]
  },
  {
   "cell_type": "markdown",
   "metadata": {},
   "source": [
    "# Question 2:\n",
    "Create a notebook on LIST COMPREHENSION. This exercise is to put you in a Self learning mode"
   ]
  },
  {
   "cell_type": "raw",
   "metadata": {},
   "source": [
    "List comprehension is a mathematical notation using which lists can be created in brief and single line of code. Lists can be created using for loops and if/else conditions in single line.\n",
    "\n",
    "Basic syntax of a List comprehension is as follows:\n",
    "new_lst=[expression for item in range/collection/iterable [if condition]]\n",
    "\n",
    "List comprehensions can also be used to create new list satisfying conditions from other lists using if-else conditions. \n",
    "Below is an example of using List Comprehension."
   ]
  },
  {
   "cell_type": "code",
   "execution_count": 2,
   "metadata": {},
   "outputs": [
    {
     "name": "stdout",
     "output_type": "stream",
     "text": [
      "[1, 8, 27, 64, 125, 216, 343, 512, 729, 1000] \n",
      "\n",
      "[0, 3, 6, 9, 12, 15, 18, 21, 24, 27, 30, 33, 36, 39, 42, 45, 48, 51, 54, 57, 60] \n",
      "\n",
      "[0, 5, 10, 15, 20, 25, 30, 35, 40, 45, 50, 55, 60, 65, 70, 75, 80, 85, 90, 95, 100] \n",
      "\n",
      "Common values in both lists are [0, 15, 30, 45, 60]\n"
     ]
    }
   ],
   "source": [
    "# Create a list of numbers whose power is raised to 3 within range of 1-10\n",
    "\n",
    "power_of_3 = [x**3 for x in range(1,11)]\n",
    "print(power_of_3,'\\n')\n",
    "\n",
    "# Using two predefined lists, create a list with common values from both lists.\n",
    "lst1 = [x*3 for x in range(21)]\n",
    "lst2 = [x*5 for x in range(21)]\n",
    "print (lst1,'\\n')\n",
    "print (lst2,'\\n')\n",
    "\n",
    "common=[x for x in lst1 for y in lst2 if x==y]\n",
    "print('Common values in both lists are',common)"
   ]
  },
  {
   "cell_type": "markdown",
   "metadata": {},
   "source": [
    "# Question 3:\n",
    "You have seen in the videos how powerful dictionary data structure is.\n",
    "In this assignment, given a number n, you have to write a program that generates a dictionary d which\n",
    "contains (i, i*i), where i is from 1 to n (both included).\n",
    "Then you have to just print this dictionary d."
   ]
  },
  {
   "cell_type": "code",
   "execution_count": 3,
   "metadata": {},
   "outputs": [
    {
     "name": "stdout",
     "output_type": "stream",
     "text": [
      "10\n",
      "{1: 1, 2: 4, 3: 9, 4: 16, 5: 25, 6: 36, 7: 49, 8: 64, 9: 81, 10: 100}\n"
     ]
    }
   ],
   "source": [
    "n=int(input())\n",
    "squares={i:i**2 for i in range(1,n+1)}\n",
    "print(squares)"
   ]
  },
  {
   "cell_type": "markdown",
   "metadata": {},
   "source": [
    "# Question 4:\n",
    "There is a robot which wants to go the charging point to charge itself.\n",
    "The robot moves in a 2-D plane from the original point (0,0). The robot can\n",
    "move toward UP, DOWN, LEFT and RIGHT with given steps.\n",
    "The trace of robot movement is shown as the following:\n",
    "<br>UP 5\n",
    "<br>DOWN 3\n",
    "<br>LEFT 3\n",
    "<br>RIGHT 2\n",
    "<br>Then, the output of the program should be: 2\n",
    "<br>The numbers after the direction are steps.\n",
    "<br>Write a program to compute the distance between the current position after\n",
    "a sequence of movement and original point. If the distance is a float, then\n",
    "just print the nearest integer (use round() function for that and then convert\n",
    "it into an integer)"
   ]
  },
  {
   "cell_type": "code",
   "execution_count": 4,
   "metadata": {},
   "outputs": [
    {
     "name": "stdout",
     "output_type": "stream",
     "text": [
      "4\n",
      "up 5\n",
      "down 3\n",
      "left 3\n",
      "right 2\n",
      "2\n"
     ]
    }
   ],
   "source": [
    "no_of_directions=int(input())\n",
    "\n",
    "x,y=0,0\n",
    "\n",
    "for i in range(no_of_directions):\n",
    "    # Take direction and steps input\n",
    "    ds = input()\n",
    "    lst = ds.split()\n",
    "    if lst[0].upper()=='UP':\n",
    "        y=y+int(lst[1])\n",
    "    elif lst[0].upper()=='DOWN':\n",
    "        y=y-int(lst[1])\n",
    "    elif lst[0].upper()=='LEFT':\n",
    "        x=x-int(lst[1])\n",
    "    elif lst[0].upper()=='RIGHT':\n",
    "        x=x+int(lst[1])\n",
    "    else:\n",
    "        print('Invalid direction')\n",
    "        break\n",
    "        \n",
    "z=(x**2+y**2)**(1/2)\n",
    "\n",
    "print(int(round(z)))"
   ]
  }
 ],
 "metadata": {
  "kernelspec": {
   "display_name": "Python 3",
   "language": "python",
   "name": "python3"
  },
  "language_info": {
   "codemirror_mode": {
    "name": "ipython",
    "version": 3
   },
   "file_extension": ".py",
   "mimetype": "text/x-python",
   "name": "python",
   "nbconvert_exporter": "python",
   "pygments_lexer": "ipython3",
   "version": "3.8.3"
  }
 },
 "nbformat": 4,
 "nbformat_minor": 4
}
