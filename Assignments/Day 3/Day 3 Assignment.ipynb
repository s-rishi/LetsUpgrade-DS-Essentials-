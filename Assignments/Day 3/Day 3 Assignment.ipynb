{
 "cells": [
  {
   "cell_type": "code",
   "execution_count": 1,
   "metadata": {},
   "outputs": [],
   "source": [
    "import numpy as np\n",
    "import matplotlib.pyplot as plt\n",
    "plt.style.use('dark_background')"
   ]
  },
  {
   "cell_type": "markdown",
   "metadata": {},
   "source": [
    "# Question 1:\n",
    "Create a numpy array starting from 2 till 50 with a stepsize of 3."
   ]
  },
  {
   "cell_type": "code",
   "execution_count": 2,
   "metadata": {},
   "outputs": [
    {
     "data": {
      "text/plain": [
       "array([ 2,  5,  8, 11, 14, 17, 20, 23, 26, 29, 32, 35, 38, 41, 44, 47, 50])"
      ]
     },
     "execution_count": 2,
     "metadata": {},
     "output_type": "execute_result"
    }
   ],
   "source": [
    "q1=np.arange(2,51,3)\n",
    "q1"
   ]
  },
  {
   "cell_type": "markdown",
   "metadata": {},
   "source": [
    "# Question 2:\n",
    "Accept two lists of 5 elements each from the user.\n",
    "<br>Convert them to numpy arrays. Concatenate these arrays and print it. Also sort these arrays and print it."
   ]
  },
  {
   "cell_type": "code",
   "execution_count": 3,
   "metadata": {},
   "outputs": [
    {
     "name": "stdout",
     "output_type": "stream",
     "text": [
      "Enter numbers\n",
      "3\n",
      "8\n",
      "5\n",
      "7\n",
      "6\n",
      "\n",
      "Enter numbers\n",
      "9\n",
      "12\n",
      "18\n",
      "15\n",
      "13\n",
      "\n",
      " [12 20 23 22 19]\n",
      "\n",
      "Sorted Arrays\n",
      " [3 5 6 7 8] \n",
      " [ 9 12 13 15 18]\n"
     ]
    }
   ],
   "source": [
    "def add_2_list(lst):\n",
    "    print('Enter numbers')\n",
    "    for i in range(5):\n",
    "        temp=int(input())\n",
    "        lst.append(temp)\n",
    "\n",
    "lst1=[]\n",
    "lst2=[]\n",
    "add_2_list(lst1)\n",
    "print()\n",
    "add_2_list(lst2)\n",
    "\n",
    "lst1=np.array(lst1)\n",
    "lst2=np.array(lst2)\n",
    "\n",
    "print('\\n',lst1+lst2)\n",
    "\n",
    "print('\\nSorted Arrays\\n',np.sort(lst1),'\\n',np.sort(lst2))"
   ]
  },
  {
   "cell_type": "markdown",
   "metadata": {},
   "source": [
    "# Question 3:\n",
    "Write a code snippet to find the dimensions of a ndarray and its size."
   ]
  },
  {
   "cell_type": "code",
   "execution_count": 4,
   "metadata": {},
   "outputs": [
    {
     "name": "stdout",
     "output_type": "stream",
     "text": [
      "type:  <class 'numpy.ndarray'> shape:  (3, 4, 2) \n",
      "\n",
      "Dimension of ndarray:  3 \n",
      "\n",
      "Size of ndarray:  24\n"
     ]
    }
   ],
   "source": [
    "lst3=np.arange(24).reshape(3,4,2)\n",
    "print('type: ',type(lst3),'shape: ',lst3.shape,'\\n')\n",
    "\n",
    "\n",
    "print('Dimension of ndarray: ',np.ndim(lst3),'\\n')\n",
    "\n",
    "print('Size of ndarray: ',np.size(lst3))"
   ]
  },
  {
   "cell_type": "markdown",
   "metadata": {},
   "source": [
    "# Question 4:\n",
    "How to convert a 1D array into a 2D array? Demonstrate with the help of a code snippet\n",
    "Hint: np.newaxis, np.expand_dims"
   ]
  },
  {
   "cell_type": "raw",
   "metadata": {},
   "source": [
    "\n",
    "Using numpy expand_dims function to add dimensions to existing array by specifying axis\n",
    "Syntax to use is numpy.expand_dims(array, axis)\n",
    "Axis can be understood as index of an array shape. E.g: adding an axis at position 1 in an array of shape(2,2) will increase the dimension at index 1 of the shape. Modified shape of array will be (2,1,2)\n"
   ]
  },
  {
   "cell_type": "code",
   "execution_count": 5,
   "metadata": {},
   "outputs": [
    {
     "name": "stdout",
     "output_type": "stream",
     "text": [
      "(10,)\n",
      "(10, 1)\n",
      "(1, 10)\n",
      "(10, 1, 1)\n",
      "(5, 5)\n",
      "(5, 1, 5)\n"
     ]
    }
   ],
   "source": [
    "# Creating a 1D array\n",
    "lst5 = np.arange(10)\n",
    "print(lst5.shape)\n",
    "\n",
    "# Converting the 1D array to 2D array by inserting an axis at position 1\n",
    "lst6 = np.expand_dims(lst5, axis=1)\n",
    "print(lst6.shape)\n",
    "\n",
    "\n",
    "# Converting the 1D array to 2D array by inserting an axis at position 0\n",
    "lst6 = np.expand_dims(lst5, axis=0)\n",
    "print(lst6.shape)\n",
    "\n",
    "# Converting the 1D array to 3D array by inserting an axis at position 1,2\n",
    "lst7=np.expand_dims(lst5,axis=(1,2))\n",
    "print(lst7.shape)\n",
    "\n",
    "# creating a 2D array\n",
    "lst8= np.arange(25).reshape(5,5)\n",
    "print(lst8.shape)\n",
    "\n",
    "# Converting above 2D array to 3D array by inserting an axis at position 1\n",
    "lst8 = np.expand_dims(lst8, axis=1)\n",
    "print(lst8.shape)\n",
    "\n"
   ]
  },
  {
   "cell_type": "markdown",
   "metadata": {},
   "source": [
    "# Question 5:\n",
    "Consider two square numpy arrays. Stack them vertically and horizontally.\n",
    "Hint: Use vstack(), hstack()"
   ]
  },
  {
   "cell_type": "code",
   "execution_count": 6,
   "metadata": {},
   "outputs": [
    {
     "name": "stdout",
     "output_type": "stream",
     "text": [
      "[[ 0  1  2]\n",
      " [ 3  4  5]\n",
      " [ 6  7  8]\n",
      " [ 9 10 11]\n",
      " [12 13 14]\n",
      " [15 16 17]]\n",
      "[[ 0  1  2  9 10 11]\n",
      " [ 3  4  5 12 13 14]\n",
      " [ 6  7  8 15 16 17]]\n"
     ]
    }
   ],
   "source": [
    "lst9=np.arange(9).reshape(3,3)\n",
    "lst10=np.arange(9,18).reshape(3,3)\n",
    "\n",
    "\n",
    "print(np.vstack((lst9,lst10)))\n",
    "print(np.hstack((lst9,lst10)))"
   ]
  },
  {
   "cell_type": "markdown",
   "metadata": {},
   "source": [
    "# Question 6:\n",
    "How to get unique items and counts of unique items?"
   ]
  },
  {
   "cell_type": "code",
   "execution_count": 7,
   "metadata": {},
   "outputs": [
    {
     "name": "stdout",
     "output_type": "stream",
     "text": [
      "[ 1  2  3  5  6  7  8  9 10]\n",
      "[1 2 1 2 2 1 2 1 3]\n"
     ]
    }
   ],
   "source": [
    "lst11 = np.array([[1,2,2,3,5],[5,6,6,7,8],[8,9,10,10,10]])\n",
    "\n",
    "uniq,count= np.unique(lst11,return_counts=True)\n",
    "print(uniq)\n",
    "print(count)"
   ]
  }
 ],
 "metadata": {
  "kernelspec": {
   "display_name": "Python 3",
   "language": "python",
   "name": "python3"
  },
  "language_info": {
   "codemirror_mode": {
    "name": "ipython",
    "version": 3
   },
   "file_extension": ".py",
   "mimetype": "text/x-python",
   "name": "python",
   "nbconvert_exporter": "python",
   "pygments_lexer": "ipython3",
   "version": "3.8.3"
  }
 },
 "nbformat": 4,
 "nbformat_minor": 4
}
